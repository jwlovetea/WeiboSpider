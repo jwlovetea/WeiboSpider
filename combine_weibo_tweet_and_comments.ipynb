{
 "cells": [
  {
   "cell_type": "code",
   "execution_count": 3,
   "metadata": {},
   "outputs": [],
   "source": [
    "import polars as pl"
   ]
  },
  {
   "cell_type": "markdown",
   "metadata": {},
   "source": [
    "# weibo tweet data\n"
   ]
  },
  {
   "cell_type": "code",
   "execution_count": 4,
   "metadata": {},
   "outputs": [],
   "source": [
    "weibo_data = pl.read_ndjson(\"./output/tweet_spider_by_keyword_20240503142606.jsonl\")"
   ]
  },
  {
   "cell_type": "code",
   "execution_count": 5,
   "metadata": {},
   "outputs": [
    {
     "data": {
      "text/html": [
       "<div><style>\n",
       ".dataframe > thead > tr,\n",
       ".dataframe > tbody > tr {\n",
       "  text-align: right;\n",
       "  white-space: pre-wrap;\n",
       "}\n",
       "</style>\n",
       "<small>shape: (5, 22)</small><table border=\"1\" class=\"dataframe\"><thead><tr><th>_id</th><th>mblogid</th><th>created_at</th><th>geo</th><th>ip_location</th><th>reposts_count</th><th>comments_count</th><th>attitudes_count</th><th>source</th><th>content</th><th>pic_urls</th><th>pic_num</th><th>isLongText</th><th>is_retweet</th><th>user</th><th>video</th><th>video_online_numbers</th><th>url</th><th>keyword</th><th>crawl_time</th><th>reads_count</th><th>retweet_id</th></tr><tr><td>str</td><td>str</td><td>str</td><td>struct[3]</td><td>str</td><td>i64</td><td>i64</td><td>i64</td><td>str</td><td>str</td><td>list[str]</td><td>i64</td><td>bool</td><td>bool</td><td>struct[7]</td><td>str</td><td>i64</td><td>str</td><td>str</td><td>i64</td><td>i64</td><td>str</td></tr></thead><tbody><tr><td>&quot;4918485727577152&quot;</td><td>&quot;N7KTGvNa8&quot;</td><td>&quot;2023-07-01 00:17:21&quot;</td><td>{null,null,{null,null,null,null}}</td><td>&quot;发布于 广西&quot;</td><td>0</td><td>34</td><td>6</td><td>&quot;iPhone客户端&quot;</td><td>&quot;#齐齐哈尔高等师范专科学校[超话]# 不能染发 不能美甲 厕…</td><td>[]</td><td>0</td><td>false</td><td>false</td><td>{&quot;6019615870&quot;,&quot;https://tvax4.sinaimg.cn/crop.0.0.995.995.1024/006znH4yly8hgm0vskmlmj30rn0rnjsy.jpg?KID=imgbed,tva&amp;Expires=1714728364&amp;ssig=KJ%2FKnTXzS0&quot;,&quot;小莹wwwwwww&quot;,true,0,0,0}</td><td>null</td><td>null</td><td>&quot;https://weibo.com/6019615870/N…</td><td>&quot;齐齐哈尔&quot;</td><td>1714717566</td><td>null</td><td>null</td></tr><tr><td>&quot;4918498847623792&quot;</td><td>&quot;N7LeQvZio&quot;</td><td>&quot;2023-07-01 01:09:29&quot;</td><td>{null,null,{null,null,null,null}}</td><td>&quot;发布于 广东&quot;</td><td>0</td><td>0</td><td>1</td><td>&quot;Android&quot;</td><td>&quot;上午督导\n",
       "下午摸鱼/老板不请我喝下午茶呜呜呜\n",
       "晚上Kpart…</td><td>[&quot;https://wx1.sinaimg.cn/orj960/be313ac1gy1hfgqv5v5zhj22bc3344qs&quot;, &quot;https://wx1.sinaimg.cn/orj960/be313ac1gy1hfgqv9p1xwj22bc334b2b&quot;, &quot;https://wx1.sinaimg.cn/orj960/be313ac1gy1hfgqvb7wvdj22bc334kjm&quot;]</td><td>3</td><td>false</td><td>false</td><td>{&quot;3190897345&quot;,&quot;https://tva4.sinaimg.cn/crop.0.0.720.720.1024/be313ac1jw8evu9f5fm18j20k00k0abi.jpg?KID=imgbed,tva&amp;Expires=1714728364&amp;ssig=TRiaBnBvty&quot;,&quot;用户两十两&quot;,false,1,2,null}</td><td>null</td><td>null</td><td>&quot;https://weibo.com/3190897345/N…</td><td>&quot;齐齐哈尔&quot;</td><td>1714717566</td><td>null</td><td>null</td></tr><tr><td>&quot;4918532875747681&quot;</td><td>&quot;N7M7Jo7ex&quot;</td><td>&quot;2023-07-01 03:24:42&quot;</td><td>{&quot;Point&quot;,[29.875526, 121.583244],{&quot;B2094253D668A7FB4292&quot;,&quot;J哥齐齐哈尔碳火烤肉(天伦广场)店&quot;,&quot;checkin&quot;,&quot;0&quot;}}</td><td>&quot;发布于 浙江&quot;</td><td>0</td><td>0</td><td>2</td><td>&quot;iPhone 11&quot;</td><td>&quot;#珂氏杂谈[超话]# \n",
       "七月的第一餐，烤肉+啤酒🍻\n",
       "懒得修图…</td><td>[&quot;https://wx1.sinaimg.cn/orj960/8b484388gy1hfguqgzasaj22c03401l0&quot;, &quot;https://wx1.sinaimg.cn/orj960/8b484388gy1hfguqj203mj22c03407wk&quot;, … &quot;https://wx1.sinaimg.cn/orj960/8b484388gy1hfguqm6pc2j20u01hc4hh&quot;]</td><td>4</td><td>false</td><td>false</td><td>{&quot;2336768904&quot;,&quot;https://tva4.sinaimg.cn/crop.0.0.640.640.1024/8b484388jw8f1t3j4rnvjj20hs0hsdgc.jpg?KID=imgbed,tva&amp;Expires=1714728367&amp;ssig=hZAMtILSTk&quot;,&quot;施珂玮&quot;,true,6,12,0}</td><td>null</td><td>null</td><td>&quot;https://weibo.com/2336768904/N…</td><td>&quot;齐齐哈尔&quot;</td><td>1714717569</td><td>null</td><td>null</td></tr><tr><td>&quot;4918510122174259&quot;</td><td>&quot;N7Lx297CH&quot;</td><td>&quot;2023-07-01 01:54:17&quot;</td><td>{null,null,{null,null,null,null}}</td><td>&quot;发布于 四川&quot;</td><td>0</td><td>0</td><td>0</td><td>&quot;微博 weibo.com&quot;</td><td>&quot;很多的qu道机构的宣chuan真的很厉害‼全网都是xu假的案…</td><td>[]</td><td>0</td><td>true</td><td>false</td><td>{&quot;5852406088&quot;,&quot;https://tvax3.sinaimg.cn/crop.0.0.700.700.1024/006o46aAly8hfed7fzd8xj30jg0jg3zg.jpg?KID=imgbed,tva&amp;Expires=1714728366&amp;ssig=AVnYsp%2BVBx&quot;,&quot;你的静姐谈整圈&quot;,false,0,0,null}</td><td>null</td><td>null</td><td>&quot;https://weibo.com/5852406088/N…</td><td>&quot;齐齐哈尔&quot;</td><td>1714717569</td><td>null</td><td>null</td></tr><tr><td>&quot;4918550568108256&quot;</td><td>&quot;N7MAgy1kk&quot;</td><td>&quot;2023-07-01 04:35:00&quot;</td><td>{null,null,{null,null,null,null}}</td><td>&quot;发布于 安徽&quot;</td><td>0</td><td>0</td><td>0</td><td>&quot;微博 weibo.com&quot;</td><td>&quot;发布了头条文章：《齐齐哈尔救护车长途接送病人-如何收费》 h…</td><td>[]</td><td>0</td><td>false</td><td>false</td><td>{&quot;7826701718&quot;,&quot;https://tvax2.sinaimg.cn/crop.0.0.750.750.1024/008xG2Euly8hctrojctpcj30ku0kumxu.jpg?KID=imgbed,tva&amp;Expires=1714728369&amp;ssig=FwubgCOfDA&quot;,&quot;武汉爱护管理服务公司&quot;,true,0,0,2}</td><td>null</td><td>null</td><td>&quot;https://weibo.com/7826701718/N…</td><td>&quot;齐齐哈尔&quot;</td><td>1714717571</td><td>null</td><td>null</td></tr></tbody></table></div>"
      ],
      "text/plain": [
       "shape: (5, 22)\n",
       "┌───────────┬───────────┬───────────┬───────────┬───┬──────────┬───────────┬───────────┬───────────┐\n",
       "│ _id       ┆ mblogid   ┆ created_a ┆ geo       ┆ … ┆ keyword  ┆ crawl_tim ┆ reads_cou ┆ retweet_i │\n",
       "│ ---       ┆ ---       ┆ t         ┆ ---       ┆   ┆ ---      ┆ e         ┆ nt        ┆ d         │\n",
       "│ str       ┆ str       ┆ ---       ┆ struct[3] ┆   ┆ str      ┆ ---       ┆ ---       ┆ ---       │\n",
       "│           ┆           ┆ str       ┆           ┆   ┆          ┆ i64       ┆ i64       ┆ str       │\n",
       "╞═══════════╪═══════════╪═══════════╪═══════════╪═══╪══════════╪═══════════╪═══════════╪═══════════╡\n",
       "│ 491848572 ┆ N7KTGvNa8 ┆ 2023-07-0 ┆ {null,nul ┆ … ┆ 齐齐哈尔 ┆ 171471756 ┆ null      ┆ null      │\n",
       "│ 7577152   ┆           ┆ 1         ┆ l,{null,n ┆   ┆          ┆ 6         ┆           ┆           │\n",
       "│           ┆           ┆ 00:17:21  ┆ ull,null, ┆   ┆          ┆           ┆           ┆           │\n",
       "│           ┆           ┆           ┆ nul…      ┆   ┆          ┆           ┆           ┆           │\n",
       "│ 491849884 ┆ N7LeQvZio ┆ 2023-07-0 ┆ {null,nul ┆ … ┆ 齐齐哈尔 ┆ 171471756 ┆ null      ┆ null      │\n",
       "│ 7623792   ┆           ┆ 1         ┆ l,{null,n ┆   ┆          ┆ 6         ┆           ┆           │\n",
       "│           ┆           ┆ 01:09:29  ┆ ull,null, ┆   ┆          ┆           ┆           ┆           │\n",
       "│           ┆           ┆           ┆ nul…      ┆   ┆          ┆           ┆           ┆           │\n",
       "│ 491853287 ┆ N7M7Jo7ex ┆ 2023-07-0 ┆ {\"Point\", ┆ … ┆ 齐齐哈尔 ┆ 171471756 ┆ null      ┆ null      │\n",
       "│ 5747681   ┆           ┆ 1         ┆ [29.87552 ┆   ┆          ┆ 9         ┆           ┆           │\n",
       "│           ┆           ┆ 03:24:42  ┆ 6, 121.58 ┆   ┆          ┆           ┆           ┆           │\n",
       "│           ┆           ┆           ┆ 324…      ┆   ┆          ┆           ┆           ┆           │\n",
       "│ 491851012 ┆ N7Lx297CH ┆ 2023-07-0 ┆ {null,nul ┆ … ┆ 齐齐哈尔 ┆ 171471756 ┆ null      ┆ null      │\n",
       "│ 2174259   ┆           ┆ 1         ┆ l,{null,n ┆   ┆          ┆ 9         ┆           ┆           │\n",
       "│           ┆           ┆ 01:54:17  ┆ ull,null, ┆   ┆          ┆           ┆           ┆           │\n",
       "│           ┆           ┆           ┆ nul…      ┆   ┆          ┆           ┆           ┆           │\n",
       "│ 491855056 ┆ N7MAgy1kk ┆ 2023-07-0 ┆ {null,nul ┆ … ┆ 齐齐哈尔 ┆ 171471757 ┆ null      ┆ null      │\n",
       "│ 8108256   ┆           ┆ 1         ┆ l,{null,n ┆   ┆          ┆ 1         ┆           ┆           │\n",
       "│           ┆           ┆ 04:35:00  ┆ ull,null, ┆   ┆          ┆           ┆           ┆           │\n",
       "│           ┆           ┆           ┆ nul…      ┆   ┆          ┆           ┆           ┆           │\n",
       "└───────────┴───────────┴───────────┴───────────┴───┴──────────┴───────────┴───────────┴───────────┘"
      ]
     },
     "execution_count": 5,
     "metadata": {},
     "output_type": "execute_result"
    }
   ],
   "source": [
    "weibo_data.head()"
   ]
  },
  {
   "cell_type": "markdown",
   "metadata": {},
   "source": [
    "# weibo comments data\n"
   ]
  },
  {
   "cell_type": "code",
   "execution_count": 7,
   "metadata": {},
   "outputs": [],
   "source": [
    "weibo_comments = pl.read_ndjson(\"./output/comment_20240526162036.jsonl\")"
   ]
  },
  {
   "cell_type": "code",
   "execution_count": 8,
   "metadata": {},
   "outputs": [
    {
     "data": {
      "text/html": [
       "<div><style>\n",
       ".dataframe > thead > tr,\n",
       ".dataframe > tbody > tr {\n",
       "  text-align: right;\n",
       "  white-space: pre-wrap;\n",
       "}\n",
       "</style>\n",
       "<small>shape: (5, 9)</small><table border=\"1\" class=\"dataframe\"><thead><tr><th>created_at</th><th>_id</th><th>rootid</th><th>like_counts</th><th>ip_location</th><th>content</th><th>comment_user</th><th>tweet_id</th><th>crawl_time</th></tr><tr><td>str</td><td>i64</td><td>i64</td><td>i64</td><td>str</td><td>str</td><td>struct[14]</td><td>str</td><td>i64</td></tr></thead><tbody><tr><td>&quot;2023-07-05 13:14:11&quot;</td><td>4920130775292215</td><td>4920130775292215</td><td>1</td><td>&quot;来自新疆&quot;</td><td>&quot;曹妈妈的女儿好优秀[哇]&quot;</td><td>{&quot;6380335069&quot;,&quot;https://tvax2.sinaimg.cn/crop.0.0.1080.1080.1024/006XNeC9ly8gyopl0462cj30u00u0abx.jpg?KID=imgbed,tva&amp;Expires=1716726045&amp;ssig=%2Fsw%2FAlEP6Z&quot;,&quot;髙玥玥&quot;,false,&quot;中国青年志愿者🕊&quot;,316,1765,6322,&quot;f&quot;,&quot;北京 海淀区&quot;,6,12,null,null}</td><td>&quot;N8qOwvlgY&quot;</td><td>1716711636</td></tr><tr><td>&quot;2023-07-23 23:26:02&quot;</td><td>4926807734226134</td><td>4926807734226134</td><td>0</td><td>&quot;来自北京&quot;</td><td>&quot;行动起来&quot;</td><td>{&quot;1235564262&quot;,&quot;https://tvax1.sinaimg.cn/crop.0.0.855.855.1024/49a536e6ly8fscvc5eympj20nr0nrmz1.jpg?KID=imgbed,tva&amp;Expires=1716726047&amp;ssig=nsYycy8BfJ&quot;,&quot;此间的山羊&quot;,true,&quot;一只老山羊&quot;,743379,1853,22962,&quot;m&quot;,&quot;北京&quot;,8,12,0,&quot;美食博主 搞笑视频自媒体 微博原创视频博主&quot;}</td><td>&quot;Nbe26Au0z&quot;</td><td>1716711637</td></tr><tr><td>&quot;2023-07-24 00:11:51&quot;</td><td>4926819264893975</td><td>4926819264893975</td><td>0</td><td>&quot;来自河南&quot;</td><td>&quot;【最新：#齐齐哈尔三十四中坍塌现场救出11人#23日下午，黑…</td><td>{&quot;1212560101&quot;,&quot;https://tvax1.sinaimg.cn/crop.0.0.1080.1080.1024/484632e5ly8h93qc2347rj20u00u0dix.jpg?KID=imgbed,tva&amp;Expires=1716726048&amp;ssig=yb7zr2IQk3&quot;,&quot;社会与法&quot;,false,&quot;&quot;,3939,796,8127,&quot;m&quot;,&quot;北京&quot;,7,12,null,null}</td><td>&quot;NbfBX4VXm&quot;</td><td>1716711638</td></tr><tr><td>&quot;2023-07-24 00:20:39&quot;</td><td>4926821479746269</td><td>4926821479746269</td><td>0</td><td>&quot;来自黑龙江&quot;</td><td>&quot;不是 水泥&quot;</td><td>{&quot;6258385287&quot;,&quot;https://tvax3.sinaimg.cn/crop.0.0.512.512.1024/006PxxUbly8gvsq1qgxrtj30e80e8gn0.jpg?KID=imgbed,tva&amp;Expires=1716726048&amp;ssig=rZeEkJn4q7&quot;,&quot;泼猴_828&quot;,false,&quot;&quot;,145,474,480,&quot;f&quot;,&quot;黑龙江&quot;,0,0,null,null}</td><td>&quot;NbfBX4VXm&quot;</td><td>1716711638</td></tr><tr><td>&quot;2023-07-24 00:12:29&quot;</td><td>4926819423226547</td><td>4926819423226547</td><td>0</td><td>&quot;来自安徽&quot;</td><td>&quot;这可能不是质量问题？&quot;</td><td>{&quot;7853035592&quot;,&quot;https://tvax3.sinaimg.cn/crop.0.0.600.600.1024/008zsxioly8hfsz0lnaxwj30go0go3yw.jpg?KID=imgbed,tva&amp;Expires=1716726048&amp;ssig=spI5N%2F44bs&quot;,&quot;Mr-亦风&quot;,false,&quot;&quot;,2,121,4,&quot;m&quot;,&quot;其他&quot;,0,0,null,null}</td><td>&quot;NbfBX4VXm&quot;</td><td>1716711638</td></tr></tbody></table></div>"
      ],
      "text/plain": [
       "shape: (5, 9)\n",
       "┌───────────┬───────────┬───────────┬───────────┬───┬───────────┬───────────┬───────────┬──────────┐\n",
       "│ created_a ┆ _id       ┆ rootid    ┆ like_coun ┆ … ┆ content   ┆ comment_u ┆ tweet_id  ┆ crawl_ti │\n",
       "│ t         ┆ ---       ┆ ---       ┆ ts        ┆   ┆ ---       ┆ ser       ┆ ---       ┆ me       │\n",
       "│ ---       ┆ i64       ┆ i64       ┆ ---       ┆   ┆ str       ┆ ---       ┆ str       ┆ ---      │\n",
       "│ str       ┆           ┆           ┆ i64       ┆   ┆           ┆ struct[14 ┆           ┆ i64      │\n",
       "│           ┆           ┆           ┆           ┆   ┆           ┆ ]         ┆           ┆          │\n",
       "╞═══════════╪═══════════╪═══════════╪═══════════╪═══╪═══════════╪═══════════╪═══════════╪══════════╡\n",
       "│ 2023-07-0 ┆ 492013077 ┆ 492013077 ┆ 1         ┆ … ┆ 曹妈妈的  ┆ {\"6380335 ┆ N8qOwvlgY ┆ 17167116 │\n",
       "│ 5         ┆ 5292215   ┆ 5292215   ┆           ┆   ┆ 女儿好优  ┆ 069\",\"htt ┆           ┆ 36       │\n",
       "│ 13:14:11  ┆           ┆           ┆           ┆   ┆ 秀[哇]    ┆ ps://tvax ┆           ┆          │\n",
       "│           ┆           ┆           ┆           ┆   ┆           ┆ 2.s…      ┆           ┆          │\n",
       "│ 2023-07-2 ┆ 492680773 ┆ 492680773 ┆ 0         ┆ … ┆ 行动起来  ┆ {\"1235564 ┆ Nbe26Au0z ┆ 17167116 │\n",
       "│ 3         ┆ 4226134   ┆ 4226134   ┆           ┆   ┆           ┆ 262\",\"htt ┆           ┆ 37       │\n",
       "│ 23:26:02  ┆           ┆           ┆           ┆   ┆           ┆ ps://tvax ┆           ┆          │\n",
       "│           ┆           ┆           ┆           ┆   ┆           ┆ 1.s…      ┆           ┆          │\n",
       "│ 2023-07-2 ┆ 492681926 ┆ 492681926 ┆ 0         ┆ … ┆ 【最新：# ┆ {\"1212560 ┆ NbfBX4VXm ┆ 17167116 │\n",
       "│ 4         ┆ 4893975   ┆ 4893975   ┆           ┆   ┆ 齐齐哈尔  ┆ 101\",\"htt ┆           ┆ 38       │\n",
       "│ 00:11:51  ┆           ┆           ┆           ┆   ┆ 三十四中  ┆ ps://tvax ┆           ┆          │\n",
       "│           ┆           ┆           ┆           ┆   ┆ 坍塌现场  ┆ 1.s…      ┆           ┆          │\n",
       "│           ┆           ┆           ┆           ┆   ┆ 救出11人# ┆           ┆           ┆          │\n",
       "│           ┆           ┆           ┆           ┆   ┆ 23日下午  ┆           ┆           ┆          │\n",
       "│           ┆           ┆           ┆           ┆   ┆ ，黑…     ┆           ┆           ┆          │\n",
       "│ 2023-07-2 ┆ 492682147 ┆ 492682147 ┆ 0         ┆ … ┆ 不是 水泥 ┆ {\"6258385 ┆ NbfBX4VXm ┆ 17167116 │\n",
       "│ 4         ┆ 9746269   ┆ 9746269   ┆           ┆   ┆           ┆ 287\",\"htt ┆           ┆ 38       │\n",
       "│ 00:20:39  ┆           ┆           ┆           ┆   ┆           ┆ ps://tvax ┆           ┆          │\n",
       "│           ┆           ┆           ┆           ┆   ┆           ┆ 3.s…      ┆           ┆          │\n",
       "│ 2023-07-2 ┆ 492681942 ┆ 492681942 ┆ 0         ┆ … ┆ 这可能不  ┆ {\"7853035 ┆ NbfBX4VXm ┆ 17167116 │\n",
       "│ 4         ┆ 3226547   ┆ 3226547   ┆           ┆   ┆ 是质量问  ┆ 592\",\"htt ┆           ┆ 38       │\n",
       "│ 00:12:29  ┆           ┆           ┆           ┆   ┆ 题？      ┆ ps://tvax ┆           ┆          │\n",
       "│           ┆           ┆           ┆           ┆   ┆           ┆ 3.s…      ┆           ┆          │\n",
       "└───────────┴───────────┴───────────┴───────────┴───┴───────────┴───────────┴───────────┴──────────┘"
      ]
     },
     "execution_count": 8,
     "metadata": {},
     "output_type": "execute_result"
    }
   ],
   "source": [
    "weibo_comments.head()"
   ]
  },
  {
   "cell_type": "markdown",
   "metadata": {},
   "source": [
    "# merge the data\n"
   ]
  },
  {
   "cell_type": "code",
   "execution_count": 9,
   "metadata": {},
   "outputs": [],
   "source": [
    "weibo_comments_clean = weibo_comments.select(\n",
    "    pl.col(\"_id\").alias(\"comment_id\"),\n",
    "    pl.col(\"ip_location\").alias(\"comment_ip_location\"),\n",
    "    pl.col(\"like_counts\").alias(\"comment_like_counts\"),\n",
    "    pl.col(\"tweet_id\").alias(\"mblogid\"),\n",
    "    pl.col(\"content\").alias(\"comment_content\"),\n",
    ")"
   ]
  },
  {
   "cell_type": "code",
   "execution_count": 10,
   "metadata": {},
   "outputs": [],
   "source": [
    "weibo_data = weibo_data.join(weibo_comments_clean, on=\"mblogid\", how=\"inner\",)"
   ]
  },
  {
   "cell_type": "code",
   "execution_count": 14,
   "metadata": {},
   "outputs": [
    {
     "data": {
      "text/html": [
       "<div><style>\n",
       ".dataframe > thead > tr,\n",
       ".dataframe > tbody > tr {\n",
       "  text-align: right;\n",
       "  white-space: pre-wrap;\n",
       "}\n",
       "</style>\n",
       "<small>shape: (3, 26)</small><table border=\"1\" class=\"dataframe\"><thead><tr><th>_id</th><th>mblogid</th><th>created_at</th><th>geo</th><th>ip_location</th><th>reposts_count</th><th>comments_count</th><th>attitudes_count</th><th>source</th><th>content</th><th>pic_urls</th><th>pic_num</th><th>isLongText</th><th>is_retweet</th><th>user</th><th>video</th><th>video_online_numbers</th><th>url</th><th>keyword</th><th>crawl_time</th><th>reads_count</th><th>retweet_id</th><th>comment_id</th><th>comment_ip_location</th><th>comment_like_counts</th><th>comment_content</th></tr><tr><td>str</td><td>str</td><td>str</td><td>struct[3]</td><td>str</td><td>i64</td><td>i64</td><td>i64</td><td>str</td><td>str</td><td>list[str]</td><td>i64</td><td>bool</td><td>bool</td><td>struct[7]</td><td>str</td><td>i64</td><td>str</td><td>str</td><td>i64</td><td>i64</td><td>str</td><td>i64</td><td>str</td><td>i64</td><td>str</td></tr></thead><tbody><tr><td>&quot;4920097007469944&quot;</td><td>&quot;N8qOwvlgY&quot;</td><td>&quot;2023-07-05 11:00:00&quot;</td><td>{null,null,{null,null,null,null}}</td><td>&quot;发布于 北京&quot;</td><td>2</td><td>1</td><td>6</td><td>&quot;微博网页版&quot;</td><td>&quot;#努力和爱不会被辜负# 又是一年毕业季，离开菁菁校园，毕业生…</td><td>[&quot;https://wx1.sinaimg.cn/orj960/0088Pm4mly1hfkyobq15ij30t012nah7&quot;, &quot;https://wx1.sinaimg.cn/orj960/0088Pm4mly1hfkyobm1eqj311t0sdwno&quot;]</td><td>2</td><td>true</td><td>false</td><td>{&quot;7459512910&quot;,&quot;https://tvax1.sinaimg.cn/crop.0.0.1080.1080.1024/0088Pm4mly1gf4psm97jtj30u00u0n5x.jpg?KID=imgbed,tva&amp;Expires=1714730117&amp;ssig=KT%2FTdm%2BpVM&quot;,&quot;中国SOS儿童村&quot;,true,6,12,7}</td><td>null</td><td>null</td><td>&quot;https://weibo.com/7459512910/N…</td><td>&quot;齐齐哈尔&quot;</td><td>1714719321</td><td>null</td><td>null</td><td>4920130775292215</td><td>&quot;来自新疆&quot;</td><td>1</td><td>&quot;曹妈妈的女儿好优秀[哇]&quot;</td></tr><tr><td>&quot;4926755548695163&quot;</td><td>&quot;Nbe26Au0z&quot;</td><td>&quot;2023-07-23 19:58:40&quot;</td><td>{null,null,{null,null,null,null}}</td><td>&quot;发布于 甘肃&quot;</td><td>1</td><td>1</td><td>3</td><td>&quot;天水播报网Android&quot;</td><td>&quot;#齐市中学坍塌事件已营救8人#【#黑龙江一体育馆坍塌已营救8…</td><td>[]</td><td>0</td><td>true</td><td>false</td><td>{&quot;5627430319&quot;,&quot;https://tvax3.sinaimg.cn/crop.0.0.1080.1080.1024/0068Q7H9ly8hp99civeahj30u00u0mxo.jpg?KID=imgbed,tva&amp;Expires=1714737822&amp;ssig=luS1tlUB4C&quot;,&quot;最IN天水&quot;,true,1,12,0}</td><td>&quot;http://f.video.weibocdn.com/o0…</td><td>1713344</td><td>&quot;https://weibo.com/5627430319/N…</td><td>&quot;齐齐哈尔&quot;</td><td>1714727026</td><td>null</td><td>null</td><td>4926807734226134</td><td>&quot;来自北京&quot;</td><td>0</td><td>&quot;行动起来&quot;</td></tr><tr><td>&quot;4926816211176100&quot;</td><td>&quot;NbfBX4VXm&quot;</td><td>&quot;2023-07-23 23:59:43&quot;</td><td>{null,null,{null,null,null,null}}</td><td>&quot;发布于 河南&quot;</td><td>2</td><td>3</td><td>18</td><td>&quot;中国法学会Android&quot;</td><td>&quot;#齐齐哈尔坍塌事故发现被埋女排教练#网友发的图：体育馆上面疑…</td><td>[&quot;https://wx1.sinaimg.cn/orj960/484632e5ly1hg7a4ymmioj20pa1a7gou&quot;, &quot;https://wx1.sinaimg.cn/orj960/484632e5ly1hg7a4z0leij20oy0hxjuo&quot;, &quot;https://wx1.sinaimg.cn/orj960/484632e5ly1hg7a4zbp9nj20pa0hsdi8&quot;]</td><td>3</td><td>false</td><td>false</td><td>{&quot;1212560101&quot;,&quot;https://tvax1.sinaimg.cn/crop.0.0.1080.1080.1024/484632e5ly8h93qc2347rj20u00u0dix.jpg?KID=imgbed,tva&amp;Expires=1714737843&amp;ssig=0wMRV4Gxt6&quot;,&quot;社会与法&quot;,false,7,12,null}</td><td>null</td><td>null</td><td>&quot;https://weibo.com/1212560101/N…</td><td>&quot;齐齐哈尔&quot;</td><td>1714727045</td><td>null</td><td>null</td><td>4926819264893975</td><td>&quot;来自河南&quot;</td><td>0</td><td>&quot;【最新：#齐齐哈尔三十四中坍塌现场救出11人#23日下午，黑…</td></tr></tbody></table></div>"
      ],
      "text/plain": [
       "shape: (3, 26)\n",
       "┌───────────┬───────────┬───────────┬───────────┬───┬───────────┬───────────┬───────────┬──────────┐\n",
       "│ _id       ┆ mblogid   ┆ created_a ┆ geo       ┆ … ┆ comment_i ┆ comment_i ┆ comment_l ┆ comment_ │\n",
       "│ ---       ┆ ---       ┆ t         ┆ ---       ┆   ┆ d         ┆ p_locatio ┆ ike_count ┆ content  │\n",
       "│ str       ┆ str       ┆ ---       ┆ struct[3] ┆   ┆ ---       ┆ n         ┆ s         ┆ ---      │\n",
       "│           ┆           ┆ str       ┆           ┆   ┆ i64       ┆ ---       ┆ ---       ┆ str      │\n",
       "│           ┆           ┆           ┆           ┆   ┆           ┆ str       ┆ i64       ┆          │\n",
       "╞═══════════╪═══════════╪═══════════╪═══════════╪═══╪═══════════╪═══════════╪═══════════╪══════════╡\n",
       "│ 492009700 ┆ N8qOwvlgY ┆ 2023-07-0 ┆ {null,nul ┆ … ┆ 492013077 ┆ 来自新疆  ┆ 1         ┆ 曹妈妈的 │\n",
       "│ 7469944   ┆           ┆ 5         ┆ l,{null,n ┆   ┆ 5292215   ┆           ┆           ┆ 女儿好优 │\n",
       "│           ┆           ┆ 11:00:00  ┆ ull,null, ┆   ┆           ┆           ┆           ┆ 秀[哇]   │\n",
       "│           ┆           ┆           ┆ nul…      ┆   ┆           ┆           ┆           ┆          │\n",
       "│ 492675554 ┆ Nbe26Au0z ┆ 2023-07-2 ┆ {null,nul ┆ … ┆ 492680773 ┆ 来自北京  ┆ 0         ┆ 行动起来 │\n",
       "│ 8695163   ┆           ┆ 3         ┆ l,{null,n ┆   ┆ 4226134   ┆           ┆           ┆          │\n",
       "│           ┆           ┆ 19:58:40  ┆ ull,null, ┆   ┆           ┆           ┆           ┆          │\n",
       "│           ┆           ┆           ┆ nul…      ┆   ┆           ┆           ┆           ┆          │\n",
       "│ 492681621 ┆ NbfBX4VXm ┆ 2023-07-2 ┆ {null,nul ┆ … ┆ 492681926 ┆ 来自河南  ┆ 0         ┆ 【最新： │\n",
       "│ 1176100   ┆           ┆ 3         ┆ l,{null,n ┆   ┆ 4893975   ┆           ┆           ┆ #齐齐哈  │\n",
       "│           ┆           ┆ 23:59:43  ┆ ull,null, ┆   ┆           ┆           ┆           ┆ 尔三十四 │\n",
       "│           ┆           ┆           ┆ nul…      ┆   ┆           ┆           ┆           ┆ 中坍塌现 │\n",
       "│           ┆           ┆           ┆           ┆   ┆           ┆           ┆           ┆ 场救出11 │\n",
       "│           ┆           ┆           ┆           ┆   ┆           ┆           ┆           ┆ 人#23日  │\n",
       "│           ┆           ┆           ┆           ┆   ┆           ┆           ┆           ┆ 下午，黑 │\n",
       "│           ┆           ┆           ┆           ┆   ┆           ┆           ┆           ┆ …        │\n",
       "└───────────┴───────────┴───────────┴───────────┴───┴───────────┴───────────┴───────────┴──────────┘"
      ]
     },
     "execution_count": 14,
     "metadata": {},
     "output_type": "execute_result"
    }
   ],
   "source": [
    "weibo_data.head(3)"
   ]
  },
  {
   "cell_type": "code",
   "execution_count": 11,
   "metadata": {},
   "outputs": [
    {
     "data": {
      "text/html": [
       "<div><style>\n",
       ".dataframe > thead > tr,\n",
       ".dataframe > tbody > tr {\n",
       "  text-align: right;\n",
       "  white-space: pre-wrap;\n",
       "}\n",
       "</style>\n",
       "<small>shape: (9, 27)</small><table border=\"1\" class=\"dataframe\"><thead><tr><th>statistic</th><th>_id</th><th>mblogid</th><th>created_at</th><th>geo</th><th>ip_location</th><th>reposts_count</th><th>comments_count</th><th>attitudes_count</th><th>source</th><th>content</th><th>pic_urls</th><th>pic_num</th><th>isLongText</th><th>is_retweet</th><th>user</th><th>video</th><th>video_online_numbers</th><th>url</th><th>keyword</th><th>crawl_time</th><th>reads_count</th><th>retweet_id</th><th>comment_id</th><th>comment_ip_location</th><th>comment_like_counts</th><th>comment_content</th></tr><tr><td>str</td><td>str</td><td>str</td><td>str</td><td>f64</td><td>str</td><td>f64</td><td>f64</td><td>f64</td><td>str</td><td>str</td><td>f64</td><td>f64</td><td>f64</td><td>f64</td><td>f64</td><td>str</td><td>f64</td><td>str</td><td>str</td><td>f64</td><td>f64</td><td>str</td><td>f64</td><td>str</td><td>f64</td><td>str</td></tr></thead><tbody><tr><td>&quot;count&quot;</td><td>&quot;18985&quot;</td><td>&quot;18985&quot;</td><td>&quot;18985&quot;</td><td>18985.0</td><td>&quot;9837&quot;</td><td>18985.0</td><td>18985.0</td><td>18985.0</td><td>&quot;18985&quot;</td><td>&quot;18985&quot;</td><td>18985.0</td><td>18985.0</td><td>18985.0</td><td>18985.0</td><td>18985.0</td><td>&quot;8993&quot;</td><td>8987.0</td><td>&quot;18985&quot;</td><td>&quot;18985&quot;</td><td>18985.0</td><td>6852.0</td><td>&quot;498&quot;</td><td>18985.0</td><td>&quot;18985&quot;</td><td>18985.0</td><td>&quot;18985&quot;</td></tr><tr><td>&quot;null_count&quot;</td><td>&quot;0&quot;</td><td>&quot;0&quot;</td><td>&quot;0&quot;</td><td>0.0</td><td>&quot;9148&quot;</td><td>0.0</td><td>0.0</td><td>0.0</td><td>&quot;0&quot;</td><td>&quot;0&quot;</td><td>0.0</td><td>0.0</td><td>0.0</td><td>0.0</td><td>0.0</td><td>&quot;9992&quot;</td><td>9998.0</td><td>&quot;0&quot;</td><td>&quot;0&quot;</td><td>0.0</td><td>12133.0</td><td>&quot;18487&quot;</td><td>0.0</td><td>&quot;0&quot;</td><td>0.0</td><td>&quot;0&quot;</td></tr><tr><td>&quot;mean&quot;</td><td>null</td><td>null</td><td>null</td><td>null</td><td>null</td><td>349.9734</td><td>348.151225</td><td>4852.379826</td><td>null</td><td>null</td><td>null</td><td>0.801738</td><td>0.516302</td><td>0.026231</td><td>null</td><td>null</td><td>1.3606e6</td><td>null</td><td>null</td><td>1.7147e9</td><td>5.8793e6</td><td>null</td><td>4.9273e15</td><td>null</td><td>9.920358</td><td>null</td></tr><tr><td>&quot;std&quot;</td><td>null</td><td>null</td><td>null</td><td>null</td><td>null</td><td>936.662483</td><td>523.387825</td><td>11903.731748</td><td>null</td><td>null</td><td>null</td><td>1.860491</td><td>null</td><td>null</td><td>null</td><td>null</td><td>2.2996e6</td><td>null</td><td>null</td><td>6381.49174</td><td>7.8743e6</td><td>null</td><td>1.6384e12</td><td>null</td><td>130.198</td><td>null</td></tr><tr><td>&quot;min&quot;</td><td>&quot;4920097007469944&quot;</td><td>&quot;N8qOwvlgY&quot;</td><td>&quot;2023-07-05 11:00:00&quot;</td><td>null</td><td>&quot;发布于 上海&quot;</td><td>0.0</td><td>1.0</td><td>0.0</td><td>&quot;&quot;</td><td>&quot;#3D还原齐齐哈尔体育馆坍塌过程#\n",
       "11个孩子，11个家庭毁…</td><td>null</td><td>0.0</td><td>0.0</td><td>0.0</td><td>null</td><td>&quot;http://f.video.weibocdn.com/o0…</td><td>6.0</td><td>&quot;https://weibo.com/1006550592/N…</td><td>&quot;齐齐哈尔&quot;</td><td>1.7147e9</td><td>428.0</td><td>&quot;4926725164894094&quot;</td><td>4.9201e15</td><td>&quot;&quot;</td><td>0.0</td><td>&quot; 19个人，11人没了，剩下的估计也是受了很严重的伤，对于排…</td></tr><tr><td>&quot;25%&quot;</td><td>null</td><td>null</td><td>null</td><td>null</td><td>null</td><td>8.0</td><td>23.0</td><td>65.0</td><td>null</td><td>null</td><td>null</td><td>0.0</td><td>null</td><td>null</td><td>null</td><td>null</td><td>141776.0</td><td>null</td><td>null</td><td>1.7147e9</td><td>365056.0</td><td>null</td><td>4.9269e15</td><td>null</td><td>0.0</td><td>null</td></tr><tr><td>&quot;50%&quot;</td><td>null</td><td>null</td><td>null</td><td>null</td><td>null</td><td>60.0</td><td>115.0</td><td>834.0</td><td>null</td><td>null</td><td>null</td><td>0.0</td><td>null</td><td>null</td><td>null</td><td>null</td><td>685650.0</td><td>null</td><td>null</td><td>1.7147e9</td><td>3.080016e6</td><td>null</td><td>4.9271e15</td><td>null</td><td>0.0</td><td>null</td></tr><tr><td>&quot;75%&quot;</td><td>null</td><td>null</td><td>null</td><td>null</td><td>null</td><td>271.0</td><td>411.0</td><td>3782.0</td><td>null</td><td>null</td><td>null</td><td>1.0</td><td>null</td><td>null</td><td>null</td><td>null</td><td>1.713344e6</td><td>null</td><td>null</td><td>1.7147e9</td><td>6.933519e6</td><td>null</td><td>4.9273e15</td><td>null</td><td>1.0</td><td>null</td></tr><tr><td>&quot;max&quot;</td><td>&quot;4927555772090434&quot;</td><td>&quot;NbysywRjR&quot;</td><td>&quot;2023-07-26 00:58:28&quot;</td><td>null</td><td>&quot;发布于 黑龙江&quot;</td><td>6911.0</td><td>2638.0</td><td>73065.0</td><td>&quot;😵‍💫iPhone客户端&quot;</td><td>&quot;🙏🙏🙏//@新华社:【#齐齐哈尔坍塌体育馆已致10人死亡#，…</td><td>null</td><td>15.0</td><td>1.0</td><td>1.0</td><td>null</td><td>&quot;http://www.kuaishou.com/rest/k…</td><td>1.7279113e7</td><td>&quot;https://weibo.com/7855289123/N…</td><td>&quot;齐齐哈尔&quot;</td><td>1.7147e9</td><td>3.5363519e7</td><td>&quot;4927443734107880&quot;</td><td>5.0296e15</td><td>&quot;来自黑龙江&quot;</td><td>9288.0</td><td>&quot;🫂&quot;</td></tr></tbody></table></div>"
      ],
      "text/plain": [
       "shape: (9, 27)\n",
       "┌───────────┬───────────┬───────────┬───────────┬───┬───────────┬───────────┬───────────┬──────────┐\n",
       "│ statistic ┆ _id       ┆ mblogid   ┆ created_a ┆ … ┆ comment_i ┆ comment_i ┆ comment_l ┆ comment_ │\n",
       "│ ---       ┆ ---       ┆ ---       ┆ t         ┆   ┆ d         ┆ p_locatio ┆ ike_count ┆ content  │\n",
       "│ str       ┆ str       ┆ str       ┆ ---       ┆   ┆ ---       ┆ n         ┆ s         ┆ ---      │\n",
       "│           ┆           ┆           ┆ str       ┆   ┆ f64       ┆ ---       ┆ ---       ┆ str      │\n",
       "│           ┆           ┆           ┆           ┆   ┆           ┆ str       ┆ f64       ┆          │\n",
       "╞═══════════╪═══════════╪═══════════╪═══════════╪═══╪═══════════╪═══════════╪═══════════╪══════════╡\n",
       "│ count     ┆ 18985     ┆ 18985     ┆ 18985     ┆ … ┆ 18985.0   ┆ 18985     ┆ 18985.0   ┆ 18985    │\n",
       "│ null_coun ┆ 0         ┆ 0         ┆ 0         ┆ … ┆ 0.0       ┆ 0         ┆ 0.0       ┆ 0        │\n",
       "│ t         ┆           ┆           ┆           ┆   ┆           ┆           ┆           ┆          │\n",
       "│ mean      ┆ null      ┆ null      ┆ null      ┆ … ┆ 4.9273e15 ┆ null      ┆ 9.920358  ┆ null     │\n",
       "│ std       ┆ null      ┆ null      ┆ null      ┆ … ┆ 1.6384e12 ┆ null      ┆ 130.198   ┆ null     │\n",
       "│ min       ┆ 492009700 ┆ N8qOwvlgY ┆ 2023-07-0 ┆ … ┆ 4.9201e15 ┆           ┆ 0.0       ┆ 19个人， │\n",
       "│           ┆ 7469944   ┆           ┆ 5         ┆   ┆           ┆           ┆           ┆ 11人没了 │\n",
       "│           ┆           ┆           ┆ 11:00:00  ┆   ┆           ┆           ┆           ┆ ，剩下的 │\n",
       "│           ┆           ┆           ┆           ┆   ┆           ┆           ┆           ┆ 估计也是 │\n",
       "│           ┆           ┆           ┆           ┆   ┆           ┆           ┆           ┆ 受了很严 │\n",
       "│           ┆           ┆           ┆           ┆   ┆           ┆           ┆           ┆ 重的伤， │\n",
       "│           ┆           ┆           ┆           ┆   ┆           ┆           ┆           ┆ 对于排…  │\n",
       "│ 25%       ┆ null      ┆ null      ┆ null      ┆ … ┆ 4.9269e15 ┆ null      ┆ 0.0       ┆ null     │\n",
       "│ 50%       ┆ null      ┆ null      ┆ null      ┆ … ┆ 4.9271e15 ┆ null      ┆ 0.0       ┆ null     │\n",
       "│ 75%       ┆ null      ┆ null      ┆ null      ┆ … ┆ 4.9273e15 ┆ null      ┆ 1.0       ┆ null     │\n",
       "│ max       ┆ 492755577 ┆ NbysywRjR ┆ 2023-07-2 ┆ … ┆ 5.0296e15 ┆ 来自黑龙  ┆ 9288.0    ┆ 🫂       │\n",
       "│           ┆ 2090434   ┆           ┆ 6         ┆   ┆           ┆ 江        ┆           ┆          │\n",
       "│           ┆           ┆           ┆ 00:58:28  ┆   ┆           ┆           ┆           ┆          │\n",
       "└───────────┴───────────┴───────────┴───────────┴───┴───────────┴───────────┴───────────┴──────────┘"
      ]
     },
     "execution_count": 11,
     "metadata": {},
     "output_type": "execute_result"
    }
   ],
   "source": [
    "weibo_data.describe()"
   ]
  },
  {
   "cell_type": "code",
   "execution_count": 17,
   "metadata": {},
   "outputs": [],
   "source": [
    "weibo_data_clean = weibo_data.drop(\n",
    "    \"geo\",\n",
    "    \"pic_urls\",\n",
    "    \"user\",\n",
    ")"
   ]
  },
  {
   "cell_type": "code",
   "execution_count": 18,
   "metadata": {},
   "outputs": [
    {
     "data": {
      "text/html": [
       "<div><style>\n",
       ".dataframe > thead > tr,\n",
       ".dataframe > tbody > tr {\n",
       "  text-align: right;\n",
       "  white-space: pre-wrap;\n",
       "}\n",
       "</style>\n",
       "<small>shape: (5, 23)</small><table border=\"1\" class=\"dataframe\"><thead><tr><th>_id</th><th>mblogid</th><th>created_at</th><th>ip_location</th><th>reposts_count</th><th>comments_count</th><th>attitudes_count</th><th>source</th><th>content</th><th>pic_num</th><th>isLongText</th><th>is_retweet</th><th>video</th><th>video_online_numbers</th><th>url</th><th>keyword</th><th>crawl_time</th><th>reads_count</th><th>retweet_id</th><th>comment_id</th><th>comment_ip_location</th><th>comment_like_counts</th><th>comment_content</th></tr><tr><td>str</td><td>str</td><td>str</td><td>str</td><td>i64</td><td>i64</td><td>i64</td><td>str</td><td>str</td><td>i64</td><td>bool</td><td>bool</td><td>str</td><td>i64</td><td>str</td><td>str</td><td>i64</td><td>i64</td><td>str</td><td>i64</td><td>str</td><td>i64</td><td>str</td></tr></thead><tbody><tr><td>&quot;4920097007469944&quot;</td><td>&quot;N8qOwvlgY&quot;</td><td>&quot;2023-07-05 11:00:00&quot;</td><td>&quot;发布于 北京&quot;</td><td>2</td><td>1</td><td>6</td><td>&quot;微博网页版&quot;</td><td>&quot;#努力和爱不会被辜负# 又是一年毕业季，离开菁菁校园，毕业生…</td><td>2</td><td>true</td><td>false</td><td>null</td><td>null</td><td>&quot;https://weibo.com/7459512910/N…</td><td>&quot;齐齐哈尔&quot;</td><td>1714719321</td><td>null</td><td>null</td><td>4920130775292215</td><td>&quot;来自新疆&quot;</td><td>1</td><td>&quot;曹妈妈的女儿好优秀[哇]&quot;</td></tr><tr><td>&quot;4926755548695163&quot;</td><td>&quot;Nbe26Au0z&quot;</td><td>&quot;2023-07-23 19:58:40&quot;</td><td>&quot;发布于 甘肃&quot;</td><td>1</td><td>1</td><td>3</td><td>&quot;天水播报网Android&quot;</td><td>&quot;#齐市中学坍塌事件已营救8人#【#黑龙江一体育馆坍塌已营救8…</td><td>0</td><td>true</td><td>false</td><td>&quot;http://f.video.weibocdn.com/o0…</td><td>1713344</td><td>&quot;https://weibo.com/5627430319/N…</td><td>&quot;齐齐哈尔&quot;</td><td>1714727026</td><td>null</td><td>null</td><td>4926807734226134</td><td>&quot;来自北京&quot;</td><td>0</td><td>&quot;行动起来&quot;</td></tr><tr><td>&quot;4926816211176100&quot;</td><td>&quot;NbfBX4VXm&quot;</td><td>&quot;2023-07-23 23:59:43&quot;</td><td>&quot;发布于 河南&quot;</td><td>2</td><td>3</td><td>18</td><td>&quot;中国法学会Android&quot;</td><td>&quot;#齐齐哈尔坍塌事故发现被埋女排教练#网友发的图：体育馆上面疑…</td><td>3</td><td>false</td><td>false</td><td>null</td><td>null</td><td>&quot;https://weibo.com/1212560101/N…</td><td>&quot;齐齐哈尔&quot;</td><td>1714727045</td><td>null</td><td>null</td><td>4926819264893975</td><td>&quot;来自河南&quot;</td><td>0</td><td>&quot;【最新：#齐齐哈尔三十四中坍塌现场救出11人#23日下午，黑…</td></tr><tr><td>&quot;4926816211176100&quot;</td><td>&quot;NbfBX4VXm&quot;</td><td>&quot;2023-07-23 23:59:43&quot;</td><td>&quot;发布于 河南&quot;</td><td>2</td><td>3</td><td>18</td><td>&quot;中国法学会Android&quot;</td><td>&quot;#齐齐哈尔坍塌事故发现被埋女排教练#网友发的图：体育馆上面疑…</td><td>3</td><td>false</td><td>false</td><td>null</td><td>null</td><td>&quot;https://weibo.com/1212560101/N…</td><td>&quot;齐齐哈尔&quot;</td><td>1714727045</td><td>null</td><td>null</td><td>4926821479746269</td><td>&quot;来自黑龙江&quot;</td><td>0</td><td>&quot;不是 水泥&quot;</td></tr><tr><td>&quot;4926816211176100&quot;</td><td>&quot;NbfBX4VXm&quot;</td><td>&quot;2023-07-23 23:59:43&quot;</td><td>&quot;发布于 河南&quot;</td><td>2</td><td>3</td><td>18</td><td>&quot;中国法学会Android&quot;</td><td>&quot;#齐齐哈尔坍塌事故发现被埋女排教练#网友发的图：体育馆上面疑…</td><td>3</td><td>false</td><td>false</td><td>null</td><td>null</td><td>&quot;https://weibo.com/1212560101/N…</td><td>&quot;齐齐哈尔&quot;</td><td>1714727045</td><td>null</td><td>null</td><td>4926819423226547</td><td>&quot;来自安徽&quot;</td><td>0</td><td>&quot;这可能不是质量问题？&quot;</td></tr></tbody></table></div>"
      ],
      "text/plain": [
       "shape: (5, 23)\n",
       "┌───────────┬───────────┬───────────┬───────────┬───┬───────────┬───────────┬───────────┬──────────┐\n",
       "│ _id       ┆ mblogid   ┆ created_a ┆ ip_locati ┆ … ┆ comment_i ┆ comment_i ┆ comment_l ┆ comment_ │\n",
       "│ ---       ┆ ---       ┆ t         ┆ on        ┆   ┆ d         ┆ p_locatio ┆ ike_count ┆ content  │\n",
       "│ str       ┆ str       ┆ ---       ┆ ---       ┆   ┆ ---       ┆ n         ┆ s         ┆ ---      │\n",
       "│           ┆           ┆ str       ┆ str       ┆   ┆ i64       ┆ ---       ┆ ---       ┆ str      │\n",
       "│           ┆           ┆           ┆           ┆   ┆           ┆ str       ┆ i64       ┆          │\n",
       "╞═══════════╪═══════════╪═══════════╪═══════════╪═══╪═══════════╪═══════════╪═══════════╪══════════╡\n",
       "│ 492009700 ┆ N8qOwvlgY ┆ 2023-07-0 ┆ 发布于    ┆ … ┆ 492013077 ┆ 来自新疆  ┆ 1         ┆ 曹妈妈的 │\n",
       "│ 7469944   ┆           ┆ 5         ┆ 北京      ┆   ┆ 5292215   ┆           ┆           ┆ 女儿好优 │\n",
       "│           ┆           ┆ 11:00:00  ┆           ┆   ┆           ┆           ┆           ┆ 秀[哇]   │\n",
       "│ 492675554 ┆ Nbe26Au0z ┆ 2023-07-2 ┆ 发布于    ┆ … ┆ 492680773 ┆ 来自北京  ┆ 0         ┆ 行动起来 │\n",
       "│ 8695163   ┆           ┆ 3         ┆ 甘肃      ┆   ┆ 4226134   ┆           ┆           ┆          │\n",
       "│           ┆           ┆ 19:58:40  ┆           ┆   ┆           ┆           ┆           ┆          │\n",
       "│ 492681621 ┆ NbfBX4VXm ┆ 2023-07-2 ┆ 发布于    ┆ … ┆ 492681926 ┆ 来自河南  ┆ 0         ┆ 【最新： │\n",
       "│ 1176100   ┆           ┆ 3         ┆ 河南      ┆   ┆ 4893975   ┆           ┆           ┆ #齐齐哈  │\n",
       "│           ┆           ┆ 23:59:43  ┆           ┆   ┆           ┆           ┆           ┆ 尔三十四 │\n",
       "│           ┆           ┆           ┆           ┆   ┆           ┆           ┆           ┆ 中坍塌现 │\n",
       "│           ┆           ┆           ┆           ┆   ┆           ┆           ┆           ┆ 场救出11 │\n",
       "│           ┆           ┆           ┆           ┆   ┆           ┆           ┆           ┆ 人#23日  │\n",
       "│           ┆           ┆           ┆           ┆   ┆           ┆           ┆           ┆ 下午，黑 │\n",
       "│           ┆           ┆           ┆           ┆   ┆           ┆           ┆           ┆ …        │\n",
       "│ 492681621 ┆ NbfBX4VXm ┆ 2023-07-2 ┆ 发布于    ┆ … ┆ 492682147 ┆ 来自黑龙  ┆ 0         ┆ 不是     │\n",
       "│ 1176100   ┆           ┆ 3         ┆ 河南      ┆   ┆ 9746269   ┆ 江        ┆           ┆ 水泥     │\n",
       "│           ┆           ┆ 23:59:43  ┆           ┆   ┆           ┆           ┆           ┆          │\n",
       "│ 492681621 ┆ NbfBX4VXm ┆ 2023-07-2 ┆ 发布于    ┆ … ┆ 492681942 ┆ 来自安徽  ┆ 0         ┆ 这可能不 │\n",
       "│ 1176100   ┆           ┆ 3         ┆ 河南      ┆   ┆ 3226547   ┆           ┆           ┆ 是质量问 │\n",
       "│           ┆           ┆ 23:59:43  ┆           ┆   ┆           ┆           ┆           ┆ 题？     │\n",
       "└───────────┴───────────┴───────────┴───────────┴───┴───────────┴───────────┴───────────┴──────────┘"
      ]
     },
     "execution_count": 18,
     "metadata": {},
     "output_type": "execute_result"
    }
   ],
   "source": [
    "weibo_data_clean.head()"
   ]
  },
  {
   "cell_type": "code",
   "execution_count": 19,
   "metadata": {},
   "outputs": [
    {
     "data": {
      "text/plain": [
       "(18985, 23)"
      ]
     },
     "execution_count": 19,
     "metadata": {},
     "output_type": "execute_result"
    }
   ],
   "source": [
    "weibo_data_clean.shape"
   ]
  },
  {
   "cell_type": "code",
   "execution_count": 20,
   "metadata": {},
   "outputs": [],
   "source": [
    "weibo_data_clean.write_csv(\"weibo_data_clean_samples.csv\",)"
   ]
  },
  {
   "cell_type": "code",
   "execution_count": null,
   "metadata": {},
   "outputs": [],
   "source": []
  }
 ],
 "metadata": {
  "language_info": {
   "name": "python"
  }
 },
 "nbformat": 4,
 "nbformat_minor": 2
}
